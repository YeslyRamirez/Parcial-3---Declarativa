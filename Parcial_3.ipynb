{
  "nbformat": 4,
  "nbformat_minor": 0,
  "metadata": {
    "colab": {
      "provenance": [],
      "authorship_tag": "ABX9TyOsNM5anH8fIqthNSTOBWuB"
    },
    "kernelspec": {
      "name": "python3",
      "display_name": "Python 3"
    },
    "language_info": {
      "name": "python"
    }
  },
  "cells": [
    {
      "cell_type": "code",
      "execution_count": null,
      "metadata": {
        "id": "nsa171ZJF8_y"
      },
      "outputs": [],
      "source": [
        "# Qué: Seleccionar empleados activos y calcular salario pormedio por departamento\n",
        "\n",
        "SELECT\n",
        "     departamento.nombre AS departamento,\n",
        "     COUNT (empleados.id) AS num_empleados,\n",
        "     AVG(empleados.salario) AS salario_promedio\n",
        "FROM\n",
        "    empleados\n",
        "JOIN\n",
        "    departamento ON empleados.departamento_id = departamento.id\n",
        "WHERE\n",
        "    empleados.activo = true\n",
        "GROUP BY\n",
        "    departamento.nombre;\n",
        "ORDER BY\n",
        "    salario_promedio DESC;\n",
        "\n",
        ""
      ]
    },
    {
      "cell_type": "code",
      "source": [
        "#Declarativo ejemplo 1\n",
        "numeros = [1, 2, 3 ,4 ,5 ,6 ,7, 8, 9, 10]\n",
        "pares_declarativo = list(filter(lambda x: x % 2 == 0, numeros))\n",
        "print(\"Declarativo (filter):\", pares_declarativo)\n",
        "\n"
      ],
      "metadata": {
        "colab": {
          "base_uri": "https://localhost:8080/"
        },
        "id": "sHA8W8DUJ44K",
        "outputId": "631b24e6-1812-46e4-cec4-3afe5088d694"
      },
      "execution_count": 4,
      "outputs": [
        {
          "output_type": "stream",
          "name": "stdout",
          "text": [
            "Declarativo (filter): [2, 4, 6, 8, 10]\n"
          ]
        }
      ]
    },
    {
      "cell_type": "code",
      "source": [
        "#Imperativo ejemplo 1\n",
        "numeros = [1, 2, 3 ,4 ,5 ,6 ,7, 8, 9, 10]\n",
        "pares_imperativo = []\n",
        "for numero in numeros:\n",
        "    if numero % 2 == 0:\n",
        "        pares_imperativo.append(numero)\n",
        "print(\"Imperativo (paso a paso):\", pares_imperativo)"
      ],
      "metadata": {
        "colab": {
          "base_uri": "https://localhost:8080/"
        },
        "id": "bS8zvO2sKV4G",
        "outputId": "ccac8f87-3d4f-4c29-deb0-28d4864a9985"
      },
      "execution_count": 5,
      "outputs": [
        {
          "output_type": "stream",
          "name": "stdout",
          "text": [
            "Imperativo (paso a paso): [2, 4, 6, 8, 10]\n"
          ]
        }
      ]
    },
    {
      "cell_type": "code",
      "source": [
        "#Declarativo ejemplo 2\n",
        "\n",
        "nombres = [\"ana\", \"juan\", \"Lucía\", \"Camilo\"]\n",
        "nombres_declarativo = list(map(str.upper, nombres))\n",
        "print(\"Declarativo (map):\", nombres_declarativo)\n",
        "\n"
      ],
      "metadata": {
        "colab": {
          "base_uri": "https://localhost:8080/"
        },
        "id": "CLVjGHUrPAwf",
        "outputId": "08240bb6-0671-4c92-f7a5-0ee171f6f7e9"
      },
      "execution_count": 7,
      "outputs": [
        {
          "output_type": "stream",
          "name": "stdout",
          "text": [
            "Declarativo (map): ['ANA', 'JUAN', 'LUCÍA', 'CAMILO']\n"
          ]
        }
      ]
    },
    {
      "cell_type": "code",
      "source": [
        "#Imperativo ejemplo 2\n",
        "\n",
        "nombres = [\"ana\", \"juan\", \"Lucía\", \"Camilo\"]\n",
        "nombres_mayus_imperativo = []\n",
        "for nombre in nombres:\n",
        "    nombres_mayus_imperativo.append(nombre.upper())\n",
        "\n",
        "print(\"Imperativo:\", nombres_mayus_imperativo)"
      ],
      "metadata": {
        "colab": {
          "base_uri": "https://localhost:8080/"
        },
        "id": "dZbbqFPTPyK4",
        "outputId": "e38a215e-0a3d-451f-f3c6-2d1996ed96a5"
      },
      "execution_count": 8,
      "outputs": [
        {
          "output_type": "stream",
          "name": "stdout",
          "text": [
            "Imperativo: ['ANA', 'JUAN', 'LUCÍA', 'CAMILO']\n"
          ]
        }
      ]
    },
    {
      "cell_type": "code",
      "source": [
        "#Declarativo ejemplo 3\n",
        "\n",
        "numeros_1_20 = list(range(1, 21))\n",
        "suma_declarativo = sum(num for num in numeros_1_20 if num % 2 == 0)\n",
        "print(\"Suma de pares (declarativo):\", suma_declarativo)\n",
        "\n",
        "\n"
      ],
      "metadata": {
        "colab": {
          "base_uri": "https://localhost:8080/"
        },
        "id": "vWk3rt9aR936",
        "outputId": "60296dab-7617-495a-dd0c-ccf6a1f8d35e"
      },
      "execution_count": 9,
      "outputs": [
        {
          "output_type": "stream",
          "name": "stdout",
          "text": [
            "Suma de pares (declarativo): 110\n"
          ]
        }
      ]
    },
    {
      "cell_type": "code",
      "source": [
        "#Imperativo ejemplo 3\n",
        "\n",
        "numeros_1_20 = list(range(1, 21))\n",
        "suma_imperativo = 0\n",
        "for num in numeros_1_20:\n",
        "    if num % 2 == 0:\n",
        "        suma_imperativo += num\n",
        "\n",
        "print(\"Suma de pares (imperativo):\", suma_imperativo)"
      ],
      "metadata": {
        "colab": {
          "base_uri": "https://localhost:8080/"
        },
        "id": "DvSosLUTSATY",
        "outputId": "f7303770-589e-4ec4-9a6e-b9221f3ab38c"
      },
      "execution_count": 13,
      "outputs": [
        {
          "output_type": "stream",
          "name": "stdout",
          "text": [
            "Suma de pares (imperativo): 110\n"
          ]
        }
      ]
    }
  ]
}